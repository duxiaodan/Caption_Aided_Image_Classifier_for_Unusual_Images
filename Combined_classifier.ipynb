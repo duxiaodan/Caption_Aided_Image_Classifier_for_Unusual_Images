{
  "nbformat": 4,
  "nbformat_minor": 0,
  "metadata": {
    "colab": {
      "name": "Combined_classifier.ipynb",
      "version": "0.3.2",
      "provenance": [],
      "collapsed_sections": [],
      "include_colab_link": true
    },
    "kernelspec": {
      "name": "python3",
      "display_name": "Python 3"
    },
    "accelerator": "GPU"
  },
  "cells": [
    {
      "cell_type": "markdown",
      "metadata": {
        "id": "view-in-github",
        "colab_type": "text"
      },
      "source": [
        "<a href=\"https://colab.research.google.com/github/duxiaodan/Caption_Aided_Image_Classifier_for_Unusual_Images/blob/master/Combined_classifier.ipynb\" target=\"_parent\"><img src=\"https://colab.research.google.com/assets/colab-badge.svg\" alt=\"Open In Colab\"/></a>"
      ]
    },
    {
      "metadata": {
        "id": "sFr2hy9BdvO-",
        "colab_type": "code",
        "outputId": "e11caaba-d5bd-4314-dd00-6ff52ea52836",
        "colab": {
          "base_uri": "https://localhost:8080/",
          "height": 122
        }
      },
      "cell_type": "code",
      "source": [
        "%matplotlib inline\n",
        "# Load the Drive helper and mount\n",
        "from google.colab import drive\n",
        "\n",
        "# This will prompt for authorization.\n",
        "drive.mount('/content/drive')"
      ],
      "execution_count": 0,
      "outputs": [
        {
          "output_type": "stream",
          "text": [
            "Go to this URL in a browser: https://accounts.google.com/o/oauth2/auth?client_id=947318989803-6bn6qk8qdgf4n4g3pfee6491hc0brc4i.apps.googleusercontent.com&redirect_uri=urn%3Aietf%3Awg%3Aoauth%3A2.0%3Aoob&scope=email%20https%3A%2F%2Fwww.googleapis.com%2Fauth%2Fdocs.test%20https%3A%2F%2Fwww.googleapis.com%2Fauth%2Fdrive%20https%3A%2F%2Fwww.googleapis.com%2Fauth%2Fdrive.photos.readonly%20https%3A%2F%2Fwww.googleapis.com%2Fauth%2Fpeopleapi.readonly&response_type=code\n",
            "\n",
            "Enter your authorization code:\n",
            "··········\n",
            "Mounted at /content/drive\n"
          ],
          "name": "stdout"
        }
      ]
    },
    {
      "metadata": {
        "id": "sFyYNHGBFApP",
        "colab_type": "code",
        "outputId": "87b48048-e0f5-465d-e768-0ce4e1afb0ee",
        "colab": {
          "resources": {
            "http://localhost:8080/nbextensions/google.colab/files.js": {
              "data": "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",
              "ok": true,
              "headers": [
                [
                  "content-type",
                  "application/javascript"
                ]
              ],
              "status": 200,
              "status_text": ""
            }
          },
          "base_uri": "https://localhost:8080/",
          "height": 276
        }
      },
      "cell_type": "code",
      "source": [
        "from google.colab import files\n",
        "def getLocalFiles():\n",
        "    _files = files.upload()\n",
        "    if len(_files) >0:\n",
        "       for k,v in _files.items():\n",
        "         open(k,'wb').write(v)\n",
        "getLocalFiles()"
      ],
      "execution_count": 0,
      "outputs": [
        {
          "output_type": "display_data",
          "data": {
            "text/html": [
              "\n",
              "     <input type=\"file\" id=\"files-e9852006-0e65-449e-a727-6cdb860acbbf\" name=\"files[]\" multiple disabled />\n",
              "     <output id=\"result-e9852006-0e65-449e-a727-6cdb860acbbf\">\n",
              "      Upload widget is only available when the cell has been executed in the\n",
              "      current browser session. Please rerun this cell to enable.\n",
              "      </output>\n",
              "      <script src=\"/nbextensions/google.colab/files.js\"></script> "
            ],
            "text/plain": [
              "<IPython.core.display.HTML object>"
            ]
          },
          "metadata": {
            "tags": []
          }
        },
        {
          "output_type": "stream",
          "text": [
            "Saving all_captions_test_unusual_se_n.json to all_captions_test_unusual_se_n.json\n",
            "Saving all_captions_test_usual_se_n.json to all_captions_test_usual_se_n.json\n",
            "Saving all_captions_train_unusual_se_n.json to all_captions_train_unusual_se_n.json\n",
            "Saving all_captions_train_usual_se_n.json to all_captions_train_usual_se_n.json\n",
            "Saving generate.py to generate.py\n",
            "Saving helpers.py to helpers.py\n",
            "Saving model.py to model.py\n"
          ],
          "name": "stdout"
        }
      ]
    },
    {
      "metadata": {
        "id": "K8Rr9lkpc-F8",
        "colab_type": "code",
        "outputId": "96746828-2d14-49fb-e2ac-0442850e7a67",
        "colab": {
          "base_uri": "https://localhost:8080/",
          "height": 530
        }
      },
      "cell_type": "code",
      "source": [
        "!pip install torch torchvision skorch pillow==4.1.1\n",
        "!pip install unidecode\n",
        "\n",
        "from __future__ import print_function, division\n",
        "\n",
        "import torch\n",
        "import torch.nn as nn\n",
        "import torch.optim as optim\n",
        "from torch.optim import lr_scheduler\n",
        "import numpy as np\n",
        "import torchvision\n",
        "from torchvision import datasets, models, transforms\n",
        "import matplotlib.pyplot as plt\n",
        "import time\n",
        "import os\n",
        "import copy\n",
        "\n",
        "from sklearn.metrics import roc_curve, auc\n",
        "from sklearn.preprocessing import label_binarize\n",
        "\n",
        "import math\n",
        "import glob\n",
        "import string\n",
        "import random \n",
        "import json\n",
        "\n",
        "from helpers import time_since\n",
        "\n",
        "device = torch.device(\"cuda:0\" if torch.cuda.is_available() else \"cpu\")\n",
        "print(device)\n",
        "print(torch.__version__)\n",
        "print(torch.cuda.is_available())\n",
        "\n",
        "plt.ion()   # interactive mode"
      ],
      "execution_count": 0,
      "outputs": [
        {
          "output_type": "stream",
          "text": [
            "Collecting torch\n",
            "\u001b[?25l  Downloading https://files.pythonhosted.org/packages/7e/60/66415660aa46b23b5e1b72bc762e816736ce8d7260213e22365af51e8f9c/torch-1.0.0-cp36-cp36m-manylinux1_x86_64.whl (591.8MB)\n",
            "\u001b[K    100% |████████████████████████████████| 591.8MB 25kB/s \n",
            "tcmalloc: large alloc 1073750016 bytes == 0x60f3a000 @  0x7f260e4c82a4 0x591a07 0x5b5d56 0x502e9a 0x506859 0x502209 0x502f3d 0x506859 0x504c28 0x502540 0x502f3d 0x506859 0x504c28 0x502540 0x502f3d 0x506859 0x504c28 0x502540 0x502f3d 0x507641 0x502209 0x502f3d 0x506859 0x504c28 0x502540 0x502f3d 0x507641 0x504c28 0x502540 0x502f3d 0x507641\n",
            "\u001b[?25hCollecting torchvision\n",
            "\u001b[?25l  Downloading https://files.pythonhosted.org/packages/ca/0d/f00b2885711e08bd71242ebe7b96561e6f6d01fdb4b9dcf4d37e2e13c5e1/torchvision-0.2.1-py2.py3-none-any.whl (54kB)\n",
            "\u001b[K    100% |████████████████████████████████| 61kB 21.2MB/s \n",
            "\u001b[?25hCollecting skorch\n",
            "\u001b[?25l  Downloading https://files.pythonhosted.org/packages/87/3a/b7598ff2f317194c98212cc602d395d46eab60e0c8d4f45876a35f5ffe2e/skorch-0.5.0.post0-py3-none-any.whl (99kB)\n",
            "\u001b[K    100% |████████████████████████████████| 102kB 27.8MB/s \n",
            "\u001b[?25hCollecting pillow==4.1.1\n",
            "\u001b[?25l  Downloading https://files.pythonhosted.org/packages/36/e5/88b3d60924a3f8476fa74ec086f5fbaba56dd6cee0d82845f883b6b6dd18/Pillow-4.1.1-cp36-cp36m-manylinux1_x86_64.whl (5.7MB)\n",
            "\u001b[K    100% |████████████████████████████████| 5.7MB 5.1MB/s \n",
            "\u001b[?25hRequirement already satisfied: six in /usr/local/lib/python3.6/dist-packages (from torchvision) (1.11.0)\n",
            "Requirement already satisfied: numpy in /usr/local/lib/python3.6/dist-packages (from torchvision) (1.14.6)\n",
            "Requirement already satisfied: tqdm>=4.14.0 in /usr/local/lib/python3.6/dist-packages (from skorch) (4.28.1)\n",
            "Requirement already satisfied: scipy>=1.1.0 in /usr/local/lib/python3.6/dist-packages (from skorch) (1.1.0)\n",
            "Requirement already satisfied: scikit-learn>=0.19.1 in /usr/local/lib/python3.6/dist-packages (from skorch) (0.20.1)\n",
            "Requirement already satisfied: tabulate>=0.7.7 in /usr/local/lib/python3.6/dist-packages (from skorch) (0.8.2)\n",
            "Requirement already satisfied: olefile in /usr/local/lib/python3.6/dist-packages (from pillow==4.1.1) (0.46)\n",
            "Installing collected packages: torch, pillow, torchvision, skorch\n",
            "  Found existing installation: Pillow 4.0.0\n",
            "    Uninstalling Pillow-4.0.0:\n",
            "      Successfully uninstalled Pillow-4.0.0\n",
            "Successfully installed pillow-4.1.1 skorch-0.5.0.post0 torch-1.0.0 torchvision-0.2.1\n",
            "Requirement already satisfied: unidecode in /usr/local/lib/python3.6/dist-packages (1.0.23)\n",
            "cuda:0\n",
            "1.0.0\n",
            "True\n"
          ],
          "name": "stdout"
        }
      ]
    },
    {
      "metadata": {
        "id": "DfyhoXpBcJXm",
        "colab_type": "text"
      },
      "cell_type": "markdown",
      "source": [
        "Transfer Learning Using resNet50\n",
        "========================="
      ]
    },
    {
      "metadata": {
        "id": "Lu8DcwdDc-F_",
        "colab_type": "text"
      },
      "cell_type": "markdown",
      "source": [
        "Load Image Data\n",
        "---------\n"
      ]
    },
    {
      "metadata": {
        "id": "nnyY70_khoO0",
        "colab_type": "code",
        "outputId": "f27c1300-01fb-40da-ce37-40c737729cc8",
        "colab": {
          "base_uri": "https://localhost:8080/",
          "height": 71
        }
      },
      "cell_type": "code",
      "source": [
        "def make_weights_for_balanced_classes(images, nclasses,sample_rate_for_negative):                        \n",
        "    count = [0] * nclasses                                                      \n",
        "    for item in images:                                                         \n",
        "        count[item[1]] += 1                                                     \n",
        "    weight_per_class = [0.] * nclasses                                      \n",
        "    N = float(sum(count))                                                   \n",
        "    for i in range(nclasses):\n",
        "        if i==0:\n",
        "          weight_per_class[i] = N/float(count[i])\n",
        "        else:\n",
        "          weight_per_class[i] = N/float(count[i])*sample_rate_for_negative\n",
        "    weight = [0] * len(images)                                              \n",
        "    for idx, val in enumerate(images):                                          \n",
        "        weight[idx] = weight_per_class[val[1]]                                  \n",
        "    return weight    \n",
        "# Data augmentation and normalization for training\n",
        "# Just normalization for validation\n",
        "data_transforms = {\n",
        "    'train': transforms.Compose([\n",
        "        transforms.RandomResizedCrop(224),\n",
        "        transforms.RandomHorizontalFlip(),\n",
        "        transforms.ToTensor(),\n",
        "        transforms.Normalize([0.485, 0.456, 0.406], [0.229, 0.224, 0.225])\n",
        "    ]),\n",
        "    'val': transforms.Compose([\n",
        "        transforms.Resize(256),\n",
        "        transforms.CenterCrop(224),\n",
        "        transforms.ToTensor(),\n",
        "        transforms.Normalize([0.485, 0.456, 0.406], [0.229, 0.224, 0.225])\n",
        "    ]),\n",
        "}\n",
        "\n",
        "data_dir = '/content/drive/My Drive/IndependentStudy/images'\n",
        "image_datasets = {x: datasets.ImageFolder(os.path.join(data_dir, x),\n",
        "                                          data_transforms[x])\n",
        "                  for x in ['train', 'val']}\n",
        "dataset_train = image_datasets['train']                                                                         \n",
        "                                                                                \n",
        "# For unbalanced dataset we create a weighted sampler\n",
        "sample_rate_for_negative=1\n",
        "weights = make_weights_for_balanced_classes(dataset_train.imgs, len(dataset_train.classes),sample_rate_for_negative)                                                                \n",
        "weights = torch.DoubleTensor(weights).cuda()                                       \n",
        "sampler = torch.utils.data.sampler.WeightedRandomSampler(weights, len(weights))\n",
        "dataloaders={}\n",
        "dataloaders['train'] = torch.utils.data.DataLoader(image_datasets['train'], batch_size=64,\n",
        "                                              num_workers=0,sampler=sampler)                                                                    \n",
        "dataloaders['val'] = torch.utils.data.DataLoader(image_datasets['val'], batch_size=64,\n",
        "                                              num_workers=0)\n",
        "dataset_sizes = {x: len(image_datasets[x]) for x in ['train', 'val']}\n",
        "\n",
        "class_names = image_datasets['train'].classes\n",
        "\n",
        "device = torch.device(\"cuda:0\" if torch.cuda.is_available() else \"cpu\")"
      ],
      "execution_count": 0,
      "outputs": [
        {
          "output_type": "stream",
          "text": [
            "/usr/local/lib/python3.6/dist-packages/torch/utils/data/sampler.py:115: UserWarning: To copy construct from a tensor, it is recommended to use sourceTensor.clone().detach() or sourceTensor.clone().detach().requires_grad_(True), rather than torch.tensor(sourceTensor).\n",
            "  self.weights = torch.tensor(weights, dtype=torch.double)\n"
          ],
          "name": "stderr"
        }
      ]
    },
    {
      "metadata": {
        "id": "vPqoEdS5xVaW",
        "colab_type": "code",
        "outputId": "d3463b61-189c-47ca-88cd-fdab326b846e",
        "colab": {
          "base_uri": "https://localhost:8080/",
          "height": 102
        }
      },
      "cell_type": "code",
      "source": [
        "!ls -1 /content/drive/My\\ Drive/IndependentStudy/images/train/usual | wc -l\n",
        "!ls -1 /content/drive/My\\ Drive/IndependentStudy/images/train/unusual | wc -l\n",
        "!ls -1 /content/drive/My\\ Drive/IndependentStudy/images/val/usual | wc -l\n",
        "!ls -1 /content/drive/My\\ Drive/IndependentStudy/images/val/unusual | wc -l\n",
        "dataset_sizes"
      ],
      "execution_count": 0,
      "outputs": [
        {
          "output_type": "stream",
          "text": [
            "5259\n",
            "210\n",
            "300\n",
            "100\n"
          ],
          "name": "stdout"
        },
        {
          "output_type": "execute_result",
          "data": {
            "text/plain": [
              "{'train': 5469, 'val': 400}"
            ]
          },
          "metadata": {
            "tags": []
          },
          "execution_count": 6
        }
      ]
    },
    {
      "metadata": {
        "id": "FdDWDXfbc-GG",
        "colab_type": "text"
      },
      "cell_type": "markdown",
      "source": [
        "Training the model\n",
        "------------------\n",
        "\n"
      ]
    },
    {
      "metadata": {
        "id": "Vxhg898PPFVx",
        "colab_type": "code",
        "colab": {}
      },
      "cell_type": "code",
      "source": [
        "def train_model(model, criterion, optimizer, scheduler, num_epochs=20, filename=\"/content/drive/My Drive/IndependentStudy/ROC_cross_12_17.txt\"):\n",
        "    since = time.time()\n",
        "    \n",
        "    best_model_wts = copy.deepcopy(model.state_dict())\n",
        "    best_acc = 0.0\n",
        "    roc_file=open(filename,'a')\n",
        "    print('Model info epoch={} batch={} loss weights={:.4f} {:.4f} lr={} momentum={} step size={} gamma={}'.format(num_epochs\\\n",
        "                                                   ,dataloaders['train'].batch_size\\\n",
        "                                                   ,float(criterion.weight[0]),float(criterion.weight[1])\\\n",
        "                                                   ,optimizer.param_groups[0]['lr'],optimizer.param_groups[0]['momentum']\\\n",
        "                                                   ,scheduler.step_size,scheduler.gamma),file=roc_file)\n",
        "    print('12/17',file=roc_file)\n",
        "    roc_file.close()\n",
        "    fpr=dict()\n",
        "    tpr=dict()\n",
        "    roc_auc=dict()\n",
        "    thresholds=dict()\n",
        "    fpr[0]=[]\n",
        "    fpr[1]=[]\n",
        "    tpr[0]=[]\n",
        "    tpr[1]=[]\n",
        "    roc_auc[0]=[]\n",
        "    roc_auc[1]=[]\n",
        "    thresholds[0]=[]\n",
        "    thresholds[1]=[]\n",
        "    for epoch in range(num_epochs):\n",
        "        confusion=torch.zeros(2,2)\n",
        "        print('Epoch {}/{}'.format(epoch, num_epochs - 1))\n",
        "        print('-' * 10)\n",
        "        # Each epoch has a training and validation phase\n",
        "        for phase in ['train', 'val']:\n",
        "            if phase == 'train':\n",
        "                scheduler.step()\n",
        "                model.train()  # Set model to training mode\n",
        "            else:\n",
        "                model.eval()   # Set model to evaluate mode\n",
        "                outputs_concat = torch.zeros(0)\n",
        "                labels_concat = torch.zeros(0)\n",
        "                labels_concat = labels_concat.type(torch.LongTensor)\n",
        "                outputs_concat = outputs_concat.to(device)\n",
        "                labels_concat = labels_concat.to(device)\n",
        "\n",
        "            running_loss = 0.0\n",
        "            running_corrects = 0\n",
        "\n",
        "            # Iterate over data.\n",
        "            for inputs, labels in dataloaders[phase]:\n",
        "                inputs = inputs.to(device)\n",
        "                labels = labels.to(device)\n",
        "                # zero the parameter gradients\n",
        "                optimizer.zero_grad()\n",
        "\n",
        "                # forward\n",
        "                # track history if only in train\n",
        "                with torch.set_grad_enabled(phase == 'train'):\n",
        "                    outputs = model(inputs)\n",
        "#                     print('hey')\n",
        "                    if phase=='val':\n",
        "                        labels2=np.array(labels.cpu())\n",
        "                        labels2=label_binarize(labels2,classes=[0,1,2])\n",
        "                        labels2=labels2[:,:2]\n",
        "                        labels2=torch.from_numpy(labels2)\n",
        "                        labels2=labels2.to(device)\n",
        "                        outputs_concat = torch.cat((outputs_concat,outputs))\n",
        "                        labels_concat = torch.cat((labels_concat,labels2))\n",
        "                        \n",
        "                        \n",
        "                    max_values, preds = torch.max(outputs, 1)\n",
        "                    if phase=='val':\n",
        "                        for j in range(len(labels)):\n",
        "                            confusion[labels[j]][preds[j]] += 1\n",
        "                    loss = criterion(outputs, labels)\n",
        "                        \n",
        "                    # backward + optimize only if in training phase\n",
        "                    if phase == 'train':\n",
        "                        loss.backward()\n",
        "                        optimizer.step()\n",
        "\n",
        "                # statistics\n",
        "                running_loss += loss.item() * inputs.size(0)\n",
        "                running_corrects += torch.sum(preds == labels.data)\n",
        "            \n",
        "\n",
        "            epoch_loss = running_loss / dataset_sizes[phase]\n",
        "            epoch_acc = running_corrects.double() / dataset_sizes[phase]\n",
        "            \n",
        "            print('{} Loss: {:.4f} Acc: {:.4f}'.format(\n",
        "                phase, epoch_loss, epoch_acc))\n",
        "            if phase=='val':\n",
        "                for i in range(2):\n",
        "                    fpr_i, tpr_i, thresholds_i = roc_curve(labels_concat[:, i].cpu(), outputs_concat[:, i].cpu())\n",
        "                    roc_auc_i = auc(fpr_i, tpr_i)\n",
        "                    fpr[i].append(fpr_i)\n",
        "                    tpr[i].append(tpr_i)\n",
        "                    thresholds[i].append(thresholds_i)\n",
        "                    roc_auc[i].append(roc_auc_i)\n",
        "                if epoch == num_epochs-1:\n",
        "                    fig=plt.figure()\n",
        "                    plt.plot(fpr[0][epoch], tpr[0][epoch], color='darkorange',label='ROC curve for unusual(area = %0.2f)' % roc_auc[0][epoch])\n",
        "                    plt.plot(fpr[1][epoch], tpr[1][epoch], color='green',label='ROC curve for usual(area = %0.2f)' % roc_auc[1][epoch])\n",
        "                    plt.plot([0, 1], [0, 1], color='navy', linestyle='--')\n",
        "                    plt.xlim([0.0, 1.05])\n",
        "                    plt.ylim([0.0, 1.05])\n",
        "                    plt.xlabel('False Positive Rate')\n",
        "                    plt.ylabel('True Positive Rate')\n",
        "                    plt.title('ROC for epoch %d' % epoch)\n",
        "                    plt.legend(loc=\"lower right\")\n",
        "                    fig_path='/content/drive/My Drive/IndependentStudy/'+str(round(1/float(criterion.weight[1])))+'_100'+'_'+str(round(sample_rate_for_negative*100))+'_'+str(epoch)+'.png'\n",
        "                    fig.savefig(fig_path)\n",
        "#             deep copy the model\n",
        "            if phase == 'val' and epoch_acc > best_acc:\n",
        "                best_acc = epoch_acc\n",
        "                best_model_wts = copy.deepcopy(model.state_dict())\n",
        "\n",
        "        print()\n",
        "\n",
        "    time_elapsed = time.time() - since\n",
        "    print('Training complete in {:.0f}m {:.0f}s'.format(\n",
        "        time_elapsed // 60, time_elapsed % 60))\n",
        "    print('Best val Acc: {:4f}'.format(best_acc))\n",
        "    for ii in range(2):\n",
        "        confusion[ii] = confusion[ii] / confusion[ii].sum()\n",
        "    # load best model weights\n",
        "    model.load_state_dict(best_model_wts)\n",
        "    return model, fpr, tpr, roc_auc, thresholds"
      ],
      "execution_count": 0,
      "outputs": []
    },
    {
      "metadata": {
        "id": "rpC8LmrGO1aj",
        "colab_type": "code",
        "outputId": "1f1424d1-1ba4-41f5-9c34-c6229cf0c7e6",
        "colab": {
          "base_uri": "https://localhost:8080/",
          "height": 163
        }
      },
      "cell_type": "code",
      "source": [
        "fpr"
      ],
      "execution_count": 0,
      "outputs": [
        {
          "output_type": "error",
          "ename": "NameError",
          "evalue": "ignored",
          "traceback": [
            "\u001b[0;31m---------------------------------------------------------------------------\u001b[0m",
            "\u001b[0;31mNameError\u001b[0m                                 Traceback (most recent call last)",
            "\u001b[0;32m<ipython-input-162-195ce97f7789>\u001b[0m in \u001b[0;36m<module>\u001b[0;34m()\u001b[0m\n\u001b[0;32m----> 1\u001b[0;31m \u001b[0mfpr\u001b[0m\u001b[0;34m\u001b[0m\u001b[0;34m\u001b[0m\u001b[0m\n\u001b[0m",
            "\u001b[0;31mNameError\u001b[0m: name 'fpr' is not defined"
          ]
        }
      ]
    },
    {
      "metadata": {
        "id": "QPtKGPnKc-GX",
        "colab_type": "text"
      },
      "cell_type": "markdown",
      "source": [
        "ConvNet as fixed feature extractor\n",
        "----------------------------------\n",
        "\n"
      ]
    },
    {
      "metadata": {
        "id": "ZA-S3xJPc-GX",
        "colab_type": "code",
        "outputId": "79c4fb79-5067-47f1-b375-2c139feb1b54",
        "colab": {
          "base_uri": "https://localhost:8080/",
          "height": 51
        }
      },
      "cell_type": "code",
      "source": [
        "model_conv_img = torchvision.models.resnet50(pretrained=True)\n",
        "for param in model_conv_img.parameters():\n",
        "    param.requires_grad = False\n",
        "\n",
        "# Parameters of newly constructed modules have requires_grad=True by default\n",
        "num_ftrs = model_conv_img.fc.in_features\n",
        "model_conv_img.fc = nn.Linear(num_ftrs, 2)\n",
        "\n",
        "model_conv_img = model_conv_img.to(device)\n",
        "weights=[1,1]#[unusual,usual]\n",
        "class_weights=torch.FloatTensor(weights).cuda()\n",
        "# criterion = nn.MultiMarginLoss(p=2,weight=class_weights).cuda()\n",
        "criterion = nn.CrossEntropyLoss(weight=class_weights).cuda()\n",
        "\n",
        "# Only parameters of final layer are being optimized\n",
        "optimizer_conv = optim.SGD(model_conv_img.fc.parameters(), lr=0.0005, momentum=0.9)#lr=0.001 originally\n",
        "\n",
        "# Decay LR by a factor of 0.1 every 7 epochs\n",
        "exp_lr_scheduler = lr_scheduler.StepLR(optimizer_conv, step_size=7, gamma=0.1)"
      ],
      "execution_count": 0,
      "outputs": [
        {
          "output_type": "stream",
          "text": [
            "Downloading: \"https://download.pytorch.org/models/resnet50-19c8e357.pth\" to /root/.torch/models/resnet50-19c8e357.pth\n",
            "100%|██████████| 102502400/102502400 [00:01<00:00, 80150900.89it/s]\n"
          ],
          "name": "stderr"
        }
      ]
    },
    {
      "metadata": {
        "id": "Xo-6VPOMc-Ga",
        "colab_type": "code",
        "outputId": "7a899805-7dc5-41d0-e19e-9410f9a2f682",
        "colab": {
          "base_uri": "https://localhost:8080/",
          "height": 2028
        }
      },
      "cell_type": "code",
      "source": [
        "model_conv_img, FPR_img, TPR_img, ROC_AUC_img, THRESHOLDS_img= train_model(model_conv_img, criterion, optimizer_conv,\n",
        "                         exp_lr_scheduler, num_epochs=20)"
      ],
      "execution_count": 0,
      "outputs": [
        {
          "output_type": "stream",
          "text": [
            "Epoch 0/19\n",
            "----------\n",
            "train Loss: 0.6208 Acc: 0.6482\n",
            "val Loss: 7.3644 Acc: 10.3075\n",
            "\n",
            "Epoch 1/19\n",
            "----------\n",
            "train Loss: 0.5220 Acc: 0.7636\n",
            "val Loss: 6.8741 Acc: 10.5050\n",
            "\n",
            "Epoch 2/19\n",
            "----------\n",
            "train Loss: 0.4897 Acc: 0.7672\n",
            "val Loss: 6.4798 Acc: 10.8950\n",
            "\n",
            "Epoch 3/19\n",
            "----------\n",
            "train Loss: 0.4784 Acc: 0.7857\n",
            "val Loss: 6.5041 Acc: 10.5950\n",
            "\n",
            "Epoch 4/19\n",
            "----------\n",
            "train Loss: 0.4773 Acc: 0.7793\n",
            "val Loss: 6.1383 Acc: 10.9100\n",
            "\n",
            "Epoch 5/19\n",
            "----------\n",
            "train Loss: 0.4614 Acc: 0.7932\n",
            "val Loss: 6.3501 Acc: 10.6275\n",
            "\n",
            "Epoch 6/19\n",
            "----------\n",
            "train Loss: 0.4530 Acc: 0.7939\n",
            "val Loss: 6.1432 Acc: 10.8600\n",
            "\n",
            "Epoch 7/19\n",
            "----------\n",
            "train Loss: 0.4525 Acc: 0.7906\n",
            "val Loss: 5.9510 Acc: 11.0050\n",
            "\n",
            "Epoch 8/19\n",
            "----------\n",
            "train Loss: 0.4390 Acc: 0.8071\n",
            "val Loss: 5.9763 Acc: 11.0600\n",
            "\n",
            "Epoch 9/19\n",
            "----------\n",
            "train Loss: 0.4413 Acc: 0.8071\n",
            "val Loss: 5.9578 Acc: 11.0300\n",
            "\n",
            "Epoch 10/19\n",
            "----------\n",
            "train Loss: 0.4461 Acc: 0.8054\n",
            "val Loss: 6.0913 Acc: 10.9400\n",
            "\n",
            "Epoch 11/19\n",
            "----------\n",
            "train Loss: 0.4414 Acc: 0.8023\n",
            "val Loss: 6.0141 Acc: 10.9575\n",
            "\n",
            "Epoch 12/19\n",
            "----------\n",
            "train Loss: 0.4455 Acc: 0.8053\n",
            "val Loss: 5.7912 Acc: 11.1075\n",
            "\n",
            "Epoch 13/19\n",
            "----------\n",
            "train Loss: 0.4283 Acc: 0.8201\n",
            "val Loss: 5.8442 Acc: 11.1350\n",
            "\n",
            "Epoch 14/19\n",
            "----------\n",
            "train Loss: 0.4573 Acc: 0.7908\n",
            "val Loss: 6.0064 Acc: 10.9525\n",
            "\n",
            "Epoch 15/19\n",
            "----------\n",
            "train Loss: 0.4468 Acc: 0.8007\n",
            "val Loss: 6.0373 Acc: 10.9600\n",
            "\n",
            "Epoch 16/19\n",
            "----------\n",
            "train Loss: 0.4336 Acc: 0.8084\n",
            "val Loss: 6.0039 Acc: 11.0075\n",
            "\n",
            "Epoch 17/19\n",
            "----------\n",
            "train Loss: 0.4558 Acc: 0.7914\n",
            "val Loss: 6.0316 Acc: 10.9700\n",
            "\n",
            "Epoch 18/19\n",
            "----------\n",
            "train Loss: 0.4390 Acc: 0.8047\n",
            "val Loss: 5.9086 Acc: 11.0850\n",
            "\n",
            "Epoch 19/19\n",
            "----------\n",
            "train Loss: 0.4386 Acc: 0.8076\n",
            "val Loss: 5.9748 Acc: 11.0175\n",
            "\n",
            "Training complete in 123m 40s\n",
            "Best val Acc: 11.135000\n"
          ],
          "name": "stdout"
        },
        {
          "output_type": "display_data",
          "data": {
            "image/png": "[encoded data removed]",
            "text/plain": [
              "<matplotlib.figure.Figure at 0x7ff838692470>"
            ]
          },
          "metadata": {
            "tags": []
          }
        }
      ]
    },
    {
      "metadata": {
        "id": "0kDGrfvSSUOo",
        "colab_type": "code",
        "colab": {}
      },
      "cell_type": "code",
      "source": [
        "torch.save(model_conv_img, '/content/drive/My Drive/IndependentStudy/imagenet.pth')"
      ],
      "execution_count": 0,
      "outputs": []
    },
    {
      "metadata": {
        "id": "tnAmHBp0UlVH",
        "colab_type": "code",
        "colab": {}
      },
      "cell_type": "code",
      "source": [
        "model_conv_img = torch.load('/content/drive/My Drive/IndependentStudy/imagenet.pth')"
      ],
      "execution_count": 0,
      "outputs": []
    },
    {
      "metadata": {
        "id": "mQ0nHPqpdlMo",
        "colab_type": "code",
        "colab": {}
      },
      "cell_type": "code",
      "source": [
        "counter=0\n",
        "confusions_img=torch.zeros(2,2)\n",
        "    # Each epoch has a training and validation phase\n",
        "model_conv_img.eval()   # Set model to evaluate mode\n",
        "phase='val'\n",
        "for inputs, labels in dataloaders[phase]:\n",
        "    \n",
        "    inputs = inputs.to(device)\n",
        "    labels = labels.to(device)\n",
        "    counter+=len(labels)\n",
        "    outputs = model_conv_img(inputs)\n",
        "\n",
        "    max_values, preds = torch.max(outputs, 1)\n",
        "    for j in range(len(labels)):\n",
        "        confusions_img[labels[j]][preds[j]] += 1\n",
        "    loss = criterion(outputs, labels)\n",
        "for ii in range(2):\n",
        "    confusions_img[ii] = confusions_img[ii] / confusions_img[ii].sum()\n",
        "# load best model weights"
      ],
      "execution_count": 0,
      "outputs": []
    },
    {
      "metadata": {
        "id": "j01OWsn-figl",
        "colab_type": "code",
        "outputId": "f6d6bae4-973c-4e02-f6cb-cb7a2ae32914",
        "colab": {
          "base_uri": "https://localhost:8080/",
          "height": 68
        }
      },
      "cell_type": "code",
      "source": [
        "print(counter)\n",
        "confusions_img"
      ],
      "execution_count": 0,
      "outputs": [
        {
          "output_type": "stream",
          "text": [
            "400\n"
          ],
          "name": "stdout"
        },
        {
          "output_type": "execute_result",
          "data": {
            "text/plain": [
              "tensor([[0.6700, 0.3300],\n",
              "        [0.1667, 0.8333]])"
            ]
          },
          "metadata": {
            "tags": []
          },
          "execution_count": 189
        }
      ]
    },
    {
      "metadata": {
        "id": "uYUuxV4BcVO-",
        "colab_type": "text"
      },
      "cell_type": "markdown",
      "source": [
        "Caption Classification\n",
        "==================="
      ]
    },
    {
      "metadata": {
        "id": "VGQxnLG0BODG",
        "colab_type": "code",
        "outputId": "5a5dbc8b-78a3-4f9a-feab-b9f6da4f6e1c",
        "colab": {
          "base_uri": "https://localhost:8080/",
          "height": 34
        }
      },
      "cell_type": "code",
      "source": [
        "from unidecode import unidecode as unicodeToAscii\n",
        "\n",
        "all_characters = string.printable\n",
        "n_letters = len(all_characters)\n",
        "\n",
        "print(unicodeToAscii('těší mě'))\n",
        "\n",
        "# Read a file and split into lines\n",
        "def readFile(caption_filename):\n",
        "    with open(caption_filename, 'r') as f:\n",
        "        data = json.load(f)\n",
        "    img_names=[]\n",
        "    img_captions=[]\n",
        "    for img_caption, img_cat in data.items():\n",
        "        img_names.append(img_cat)\n",
        "        temp_caption = unicodeToAscii(img_caption)\n",
        "        img_captions.append(temp_caption)\n",
        "    return img_names, img_captions\n",
        "#     return unicodeToAscii(data)\n",
        "\n",
        "def get_category_data(un_file,u_file):\n",
        "    un_names,img_captions_un = readFile(un_file)\n",
        "    u_names,img_captions_u = readFile(u_file)\n",
        "    return {'unusual':img_captions_un,'usual':img_captions_u},{'unusual':un_names,'usual':u_names},['unusual','usual']\n",
        "  \n",
        "def shortest_l(cap_list):\n",
        "    import sys\n",
        "    shortest=sys.maxsize\n",
        "    for i in cap_list.values():\n",
        "        for j in i:\n",
        "            if len(j)<shortest:\n",
        "                shortest=len(j)\n",
        "    return shortest \n",
        "def longest_l(cap_list):\n",
        "    longest=0\n",
        "    for i in cap_list.values():\n",
        "        for j in i:\n",
        "            if len(j)>longest:\n",
        "                longest=len(j)\n",
        "    return longest \n",
        "\n",
        "def categoryFromOutput(output):\n",
        "    top_n, top_i = output.topk(1, dim=1)\n",
        "    category_i = top_i[:, 0]\n",
        "    return category_i\n",
        "\n",
        "# Turn string into long tensor\n",
        "def stringToTensor(string):\n",
        "    tensor = torch.zeros(len(string), requires_grad=True).long()\n",
        "    for c in range(len(string)):\n",
        "        tensor[c] = all_characters.index(string[c])\n",
        "    return tensor\n",
        "\n",
        "def load_random_batch(text_dict, chunk_len, batch_size):\n",
        "    input_data = torch.zeros(batch_size, chunk_len).long().to(device)\n",
        "    target = torch.zeros(batch_size, 1).long().to(device)\n",
        "    input_text = []\n",
        "    for i in range(batch_size):\n",
        "        category = all_categories[random.randint(0, len(all_categories) - 1)]\n",
        "        caption_index = random.randint(0, len(text_dict[category])-1)\n",
        "        category_tensor = torch.tensor([all_categories.index(category)], dtype=torch.long)\n",
        "#         print(category,caption_index)\n",
        "        if len(text_dict[category][caption_index])>=chunk_len:\n",
        "          caption = text_dict[category][caption_index][:chunk_len]\n",
        "        else:\n",
        "          caption = repeatPad(text_dict[category][caption_index],chunk_len)\n",
        "        input_text.append(caption)\n",
        "        input_data[i] = stringToTensor(caption)\n",
        "        target[i] = category_tensor\n",
        "    return input_data, target, input_text\n",
        "  \n",
        "def repeatPad(text,length):\n",
        "  if len(text)>=length:\n",
        "    return text[:length]\n",
        "  else:\n",
        "    mult=length//len(text)+1\n",
        "    text=text*mult\n",
        "    return text[:length]"
      ],
      "execution_count": 0,
      "outputs": [
        {
          "output_type": "stream",
          "text": [
            "tesi me\n"
          ],
          "name": "stdout"
        }
      ]
    },
    {
      "metadata": {
        "id": "qfglrqY1BODS",
        "colab_type": "code",
        "outputId": "8a625b78-beef-4f70-eaa5-485e3c1ba310",
        "colab": {
          "base_uri": "https://localhost:8080/",
          "height": 34
        }
      },
      "cell_type": "code",
      "source": [
        "train_data_path_un = 'all_captions_train_unusual_se_n.json'\n",
        "train_data_path_u = 'all_captions_train_usual_se_n.json'\n",
        "test_data_path_un = 'all_captions_test_unusual_se_n.json'\n",
        "test_data_path_u = 'all_captions_test_usual_se_n.json'\n",
        "\n",
        "train_category_data,train_category_names, all_categories = get_category_data(train_data_path_un,train_data_path_u)\n",
        "test_category_data,test_category_names, test_all_categories = get_category_data(test_data_path_un,test_data_path_u)\n",
        "\n",
        "n_classes = len(all_categories)\n",
        "longest_cap_l=max(longest_l(train_category_data),longest_l(test_category_data))\n",
        "print(longest_cap_l)\n",
        "\n",
        "def categoryFromOutput(output):\n",
        "    top_n, top_i = output.topk(1, dim=1)\n",
        "    category_i = top_i[:, 0]\n",
        "    return category_i\n",
        "\n",
        "# Turn string into long tensor\n",
        "def stringToTensor(string):\n",
        "    tensor = torch.zeros(len(string), requires_grad=True).long()\n",
        "    for c in range(len(string)):\n",
        "        tensor[c] = all_characters.index(string[c])\n",
        "    return tensor\n",
        "\n",
        "def load_random_batch(text_dict, chunk_len, batch_size):\n",
        "    input_data = torch.zeros(batch_size, chunk_len).long().to(device)\n",
        "    target = torch.zeros(batch_size, 1).long().to(device)\n",
        "    input_text = []\n",
        "    for i in range(batch_size):\n",
        "        category = all_categories[random.randint(0, len(all_categories) - 1)]\n",
        "        caption_index = random.randint(0, len(text_dict[category])-1)\n",
        "        category_tensor = torch.tensor([all_categories.index(category)], dtype=torch.long)\n",
        "#         print(category,caption_index)\n",
        "        if len(text_dict[category][caption_index])>=chunk_len:\n",
        "          caption = text_dict[category][caption_index][:chunk_len]\n",
        "        else:\n",
        "          caption = repeatPad(text_dict[category][caption_index],chunk_len)\n",
        "        input_text.append(caption)\n",
        "        input_data[i] = stringToTensor(caption)\n",
        "        target[i] = category_tensor\n",
        "    return input_data, target, input_text\n",
        "  \n",
        "def repeatPad(text,length):\n",
        "  if len(text)>=length:\n",
        "    return text[:length]\n",
        "  else:\n",
        "    mult=length//len(text)+1\n",
        "    text=text*mult\n",
        "    return text[:length]"
      ],
      "execution_count": 0,
      "outputs": [
        {
          "output_type": "stream",
          "text": [
            "250\n"
          ],
          "name": "stdout"
        }
      ]
    },
    {
      "metadata": {
        "id": "-1TYa1DgBODc",
        "colab_type": "code",
        "colab": {}
      },
      "cell_type": "code",
      "source": [
        "from model import RNN\n",
        "chunk_len = longest_cap_l\n",
        "\n",
        "BATCH_SIZE = 100#100\n",
        "# n_epochs = 2000\n",
        "hidden_size = 100\n",
        "n_layers = 3#1\n",
        "learning_rate = 0.01\n",
        "model_type = 'gru'\n",
        "weights=[2,1]#[unusual,usual]\n",
        "class_weights=torch.FloatTensor(weights).cuda()\n",
        "# criterion = nn.MultiMarginLoss(p=2,weight=class_weights).cuda()\n",
        "criterion = nn.CrossEntropyLoss(weight=class_weights).cuda()\n",
        "# criterion = nn.CrossEntropyLoss()\n",
        "rnn = RNN(n_letters, hidden_size, n_classes, model_type=model_type, n_layers=n_layers).to(device)"
      ],
      "execution_count": 0,
      "outputs": []
    },
    {
      "metadata": {
        "id": "V1FwotklBODg",
        "colab_type": "code",
        "colab": {}
      },
      "cell_type": "code",
      "source": [
        "def train(rnn, target_tensor, data_tensor, optimizer, criterion, batch_size=BATCH_SIZE):\n",
        "    \"\"\"\n",
        "    Inputs:\n",
        "    - rnn: model\n",
        "    - target_target: target character data tensor of shape (batch_size, 1)\n",
        "    - data_tensor: input character data tensor of shape (batch_size, chunk_len)\n",
        "    - optimizer: rnn model optimizer\n",
        "    - criterion: loss function\n",
        "    - batch_size: data batch size\n",
        "    \n",
        "    Returns:\n",
        "    - output: output from RNN from end of sequence \n",
        "    - loss: computed loss value as python float\n",
        "    \n",
        "    \"\"\"\n",
        "    \n",
        "    output, loss = None, None\n",
        "    \n",
        "    ####################################\n",
        "    #          YOUR CODE HERE          #\n",
        "    ####################################\n",
        "    batch_size, chunk_len = data_tensor.size()\n",
        "    #You should initialize a hidden layer representation using your RNN's init_hidden function\n",
        "    hidden = rnn.init_hidden(batch_size, device=device)\n",
        "    # set the model gradients to zero\n",
        "    rnn.zero_grad()\n",
        "    # and loop over each time step (character) in the input tensor.\n",
        "    for i in range(chunk_len):\n",
        "        data = data_tensor[:, i].view(batch_size)\n",
        "        # For each time step compute the output of the of the RNN and the next hidden layer representation.\n",
        "        output, hidden = rnn(data, hidden)\n",
        "    # The cross entropy loss should be computed over\n",
        "    # the last RNN output scores from the end of the sequence and\n",
        "    # the target classification tensor.\n",
        "    loss = criterion(output.view(batch_size, -1), target_tensor.view(-1))\n",
        "    #Lastly, call backward on the loss and take an optimizer step.\n",
        "    loss.backward()\n",
        "    optimizer.step()\n",
        "    \n",
        "    ##########       END      ##########\n",
        "\n",
        "    return output, loss\n",
        "    "
      ],
      "execution_count": 0,
      "outputs": []
    },
    {
      "metadata": {
        "id": "MAO1vOG5BODj",
        "colab_type": "code",
        "colab": {}
      },
      "cell_type": "code",
      "source": [
        "def evaluate(rnn, data_tensor, seq_len=chunk_len, batch_size=BATCH_SIZE):\n",
        "    with torch.no_grad():\n",
        "        data_tensor = data_tensor.to(device)\n",
        "        hidden = rnn.init_hidden(batch_size, device=device)\n",
        "        for i in range(seq_len):\n",
        "            output, hidden = rnn(data_tensor[:,i], hidden)\n",
        "        \n",
        "        return output\n",
        "    \n",
        "def eval_test(rnn, category_tensor, data_tensor):\n",
        "    with torch.no_grad():\n",
        "        output = evaluate(rnn, data_tensor)\n",
        "        loss = criterion(output, category_tensor.squeeze())\n",
        "        return output, loss.item()"
      ],
      "execution_count": 0,
      "outputs": []
    },
    {
      "metadata": {
        "scrolled": true,
        "id": "zSIzrqzkBODl",
        "colab_type": "code",
        "outputId": "5c04cac6-3cc4-435f-f0da-e8b5a7802063",
        "colab": {
          "base_uri": "https://localhost:8080/",
          "height": 1377
        }
      },
      "cell_type": "code",
      "source": [
        "n_iters = 200 #2000 #100000\n",
        "print_every = 5\n",
        "plot_every = 5\n",
        "\n",
        "\n",
        "# Keep track of losses for plotting\n",
        "current_loss = 0\n",
        "current_test_loss = 0\n",
        "all_losses = []\n",
        "all_test_losses = []\n",
        "\n",
        "start = time.time()\n",
        "\n",
        "optimizer = torch.optim.Adam(rnn.parameters(), lr=learning_rate)\n",
        "\n",
        "\n",
        "number_correct = 0\n",
        "for iter in range(1, n_iters + 1):\n",
        "    input_data, target_category, text_data = load_random_batch(train_category_data, chunk_len, BATCH_SIZE)\n",
        "    output, loss = train(rnn, target_category, input_data, optimizer, criterion)\n",
        "    current_loss += loss\n",
        "    \n",
        "    _, test_loss = eval_test(rnn, target_category, input_data)\n",
        "    current_test_loss += test_loss\n",
        "    \n",
        "    guess_i = categoryFromOutput(output)\n",
        "    number_correct += (target_category.squeeze()==guess_i.squeeze()).long().sum()\n",
        "    \n",
        "    # Print iter number, loss, name and guess\n",
        "    if iter % print_every == 0:\n",
        "        sample_idx = 0\n",
        "        guess = all_categories[guess_i[sample_idx]]\n",
        "        \n",
        "        category = all_categories[int(target_category[sample_idx])]\n",
        "        \n",
        "        correct = '✓' if guess == category else '✗ (%s)' % category\n",
        "        print('%d %d%% (%s) %.4f %.4f %s / %s %s' % (iter, iter / n_iters * 100, time_since(start), loss, test_loss, text_data[sample_idx][:50], guess, correct))\n",
        "        print('Train accuracy: {}'.format(float(number_correct)/float(print_every*BATCH_SIZE)))\n",
        "        number_correct = 0\n",
        "    \n",
        "    # Add current loss avg to list of losses\n",
        "    if iter % plot_every == 0:\n",
        "        all_losses.append(current_loss / plot_every)\n",
        "        current_loss = 0\n",
        "        all_test_losses.append(current_test_loss / plot_every)\n",
        "        current_test_loss = 0"
      ],
      "execution_count": 0,
      "outputs": [
        {
          "output_type": "stream",
          "text": [
            "5 2% (0m 6s) 0.6750 0.6097 A person that is looking at something down the str / usual ✓\n",
            "Train accuracy: 0.52\n",
            "10 5% (0m 12s) 0.6613 0.6363 A couple of men standing next to each other holdin / unusual ✗ (usual)\n",
            "Train accuracy: 0.492\n",
            "15 7% (0m 18s) 0.6959 0.6756 a street sign is hanging on a polea street sign is / unusual ✗ (usual)\n",
            "Train accuracy: 0.464\n",
            "20 10% (0m 24s) 0.6689 0.6595 A computer generated woman looks from behind a com / unusual ✓\n",
            "Train accuracy: 0.46\n",
            "25 12% (0m 30s) 0.6277 0.5992 A blender held together by duct table holds a mixt / unusual ✓\n",
            "Train accuracy: 0.484\n",
            "30 15% (0m 36s) 0.6409 0.6282 A jet plane flies in the sky, covering up the sun. / unusual ✓\n",
            "Train accuracy: 0.498\n",
            "35 17% (0m 42s) 0.6306 0.6176 A woman running along side a horse she is showing. / unusual ✓\n",
            "Train accuracy: 0.512\n",
            "40 20% (0m 49s) 0.6300 0.6036 A dog wearing a vest posing for a picture.A dog we / unusual ✓\n",
            "Train accuracy: 0.5\n",
            "45 22% (0m 55s) 0.6683 0.6321 a cat is sitting on a couch in a rooma cat is sitt / unusual ✓\n",
            "Train accuracy: 0.536\n",
            "50 25% (1m 1s) 0.6211 0.5940 Red and white teddy bears with I Love You hearts.R / unusual ✗ (usual)\n",
            "Train accuracy: 0.582\n",
            "55 27% (1m 7s) 0.5921 0.5625 Wheels of a bus on the dirt in the daytime.Wheels  / unusual ✗ (usual)\n",
            "Train accuracy: 0.598\n",
            "60 30% (1m 13s) 0.5435 0.4765 a street sign with a dark buildings in the backgro / unusual ✓\n",
            "Train accuracy: 0.668\n",
            "65 32% (1m 19s) 0.5317 0.5213 A hand is holding a bird up to an open book.A hand / unusual ✓\n",
            "Train accuracy: 0.658\n",
            "70 35% (1m 25s) 0.5287 0.4954 Cars drive down a street with many store fronts.Ca / unusual ✗ (usual)\n",
            "Train accuracy: 0.612\n",
            "75 37% (1m 31s) 0.6661 0.5388  a lamppost during the day with two street sign a  / unusual ✗ (usual)\n",
            "Train accuracy: 0.64\n",
            "80 40% (1m 38s) 0.5146 0.4759 a close up of a street sign with a sky backgrounda / unusual ✗ (usual)\n",
            "Train accuracy: 0.652\n",
            "85 42% (1m 44s) 0.4143 0.3502 A woman sitting down and holding an umbrella.A wom / unusual ✗ (usual)\n",
            "Train accuracy: 0.71\n",
            "90 45% (1m 50s) 0.5833 0.5353 The kitchen is full of various useful appliances.T / usual ✓\n",
            "Train accuracy: 0.686\n",
            "95 47% (1m 56s) 0.5468 0.4875 A market area with various fruits and vegetables.A / usual ✓\n",
            "Train accuracy: 0.67\n",
            "100 50% (2m 2s) 0.5446 0.4435 A cat wearing a vest stands on the top of the back / unusual ✓\n",
            "Train accuracy: 0.71\n",
            "105 52% (2m 8s) 0.4728 0.3792 Legs with apple tights, shoes, and a teddy 's bear / unusual ✓\n",
            "Train accuracy: 0.7\n",
            "110 55% (2m 14s) 0.5646 0.4903 A stuffed brown teddy bear sitting up against a wa / unusual ✗ (usual)\n",
            "Train accuracy: 0.744\n",
            "115 57% (2m 20s) 0.4119 0.3282 A modern aircraft flies high above the Earth throu / usual ✗ (unusual)\n",
            "Train accuracy: 0.732\n",
            "120 60% (2m 26s) 0.4994 0.3595 A man pitching a baseball during a baseball game.A / usual ✓\n",
            "Train accuracy: 0.75\n",
            "125 62% (2m 32s) 0.4960 0.4040 A picture of a tabby cat wearing a small tie for s / unusual ✓\n",
            "Train accuracy: 0.73\n",
            "130 65% (2m 38s) 0.3414 0.2566 A white box that is spray painted red with a pictu / unusual ✓\n",
            "Train accuracy: 0.794\n",
            "135 67% (2m 44s) 0.5248 0.4092 People with umbrellas are walking over a bride in  / usual ✓\n",
            "Train accuracy: 0.766\n",
            "140 70% (2m 51s) 0.4743 0.3673 a close up of a street sign with a sky backgrounda / unusual ✗ (usual)\n",
            "Train accuracy: 0.742\n",
            "145 72% (2m 57s) 0.3405 0.2520 Two giraffes and a zebra standing outside during t / unusual ✗ (usual)\n",
            "Train accuracy: 0.774\n",
            "150 75% (3m 3s) 0.3507 0.2300 A wooden object placed next to a tree on the side  / unusual ✓\n",
            "Train accuracy: 0.816\n",
            "155 77% (3m 9s) 0.3981 0.2697 a cocker spaniel puppy laying on top of controlers / usual ✓\n",
            "Train accuracy: 0.804\n",
            "160 80% (3m 15s) 0.4131 0.3252 A white toilet sitting inside of a bathroom surrou / unusual ✓\n",
            "Train accuracy: 0.746\n",
            "165 82% (3m 21s) 0.4676 0.3611 An old MacBook laptop sits on a table.An old MacBo / unusual ✗ (usual)\n",
            "Train accuracy: 0.744\n",
            "170 85% (3m 27s) 0.3827 0.2884 A cat wearing a vest stands on the top of the back / unusual ✓\n",
            "Train accuracy: 0.822\n",
            "175 87% (3m 34s) 0.4132 0.3179 A woman standing over a pizza on top of a table.A  / usual ✓\n",
            "Train accuracy: 0.806\n",
            "180 90% (3m 40s) 0.4517 0.3013 A plate of food with broccoli, carrots mushrooms a / unusual ✗ (usual)\n",
            "Train accuracy: 0.818\n",
            "185 92% (3m 46s) 0.4341 0.2979 A small refrigerator and a rice maker on a table i / usual ✓\n",
            "Train accuracy: 0.802\n",
            "190 95% (3m 52s) 0.4413 0.3176 A white horse looking out of a window at a buildin / unusual ✓\n",
            "Train accuracy: 0.786\n",
            "195 97% (3m 58s) 0.4940 0.2628 A living area with a television and various places / usual ✓\n",
            "Train accuracy: 0.794\n",
            "200 100% (4m 4s) 0.4117 0.2539 White dog sticking its face inside a white toilet  / unusual ✓\n",
            "Train accuracy: 0.842\n"
          ],
          "name": "stdout"
        }
      ]
    },
    {
      "metadata": {
        "id": "A9nCGvHJBODs",
        "colab_type": "text"
      },
      "cell_type": "markdown",
      "source": [
        "Plot loss functions\n",
        "--------------------\n",
        "\n"
      ]
    },
    {
      "metadata": {
        "scrolled": true,
        "id": "nwJMo8KTBODv",
        "colab_type": "code",
        "outputId": "f14f2006-b7c5-40a7-f0e0-6dc0984153ee",
        "colab": {
          "base_uri": "https://localhost:8080/",
          "height": 282
        }
      },
      "cell_type": "code",
      "source": [
        "import matplotlib.pyplot as plt\n",
        "import matplotlib.ticker as ticker\n",
        "\n",
        "plt.figure()\n",
        "plt.plot(all_losses, color='b')\n",
        "plt.plot(all_test_losses, color='r')"
      ],
      "execution_count": 0,
      "outputs": [
        {
          "output_type": "execute_result",
          "data": {
            "text/plain": [
              "[<matplotlib.lines.Line2D at 0x7fc509002f28>]"
            ]
          },
          "metadata": {
            "tags": []
          },
          "execution_count": 71
        },
        {
          "output_type": "display_data",
          "data": {
            "image/png": "[encoded data removed]",
            "text/plain": [
              "<matplotlib.figure.Figure at 0x7fc508e8b400>"
            ]
          },
          "metadata": {
            "tags": []
          }
        }
      ]
    },
    {
      "metadata": {
        "id": "CMOLglZ7BODy",
        "colab_type": "text"
      },
      "cell_type": "markdown",
      "source": [
        "Evaluate results\n",
        "-------------------\n",
        "\n",
        "We now vizualize the performance of our model by creating a confusion matrix. The ground truth languages of samples are represented by rows in the matrix while the predicted languages are represented by columns.\n",
        "\n",
        "In this evaluation we consider sequences of variable sizes rather than the fixed length sequences we used for training."
      ]
    },
    {
      "metadata": {
        "id": "hgPo2zdOBODz",
        "colab_type": "code",
        "outputId": "e4affa0d-0d7f-41e9-96c5-388732170908",
        "colab": {
          "base_uri": "https://localhost:8080/",
          "height": 1109
        }
      },
      "cell_type": "code",
      "source": [
        "eval_batch_size = 1  # needs to be set to 1 for evaluating different sequence lengths\n",
        "\n",
        "# Keep track of correct guesses in a confusion matrix\n",
        "confusion = torch.zeros(n_classes, n_classes)\n",
        "n_confusion = 200#1000\n",
        "num_correct = 0\n",
        "total = 0\n",
        "gt1=[]\n",
        "gt0=[]\n",
        "guess=[]\n",
        "score={'0':[],'1':[]}\n",
        "for i in range(n_confusion):\n",
        "    eval_chunk_len = longest_cap_l#random.randint(10, 50) # in evaluation we will look at sequences of variable sizes\n",
        "    input_data, target_category, text_data = load_random_batch(test_category_data, chunk_len=eval_chunk_len, batch_size=eval_batch_size)\n",
        "    output = evaluate(rnn, input_data, seq_len=eval_chunk_len, batch_size=eval_batch_size)\n",
        "    \n",
        "    guess_i = categoryFromOutput(output)\n",
        "    category_i = [int(target_category[idx]) for idx in range(len(target_category))]\n",
        "    for j in range(eval_batch_size):\n",
        "        category = all_categories[category_i[j]] \n",
        "        confusion[category_i[j]][guess_i[j]] += 1\n",
        "        num_correct += int(guess_i[j]==category_i[j])\n",
        "        total += 1\n",
        "        ##############roc############\n",
        "        gt0.append(1-category_i[j]) \n",
        "        gt1.append(category_i[j])\n",
        "        guess.append(guess_i[j])\n",
        "        out_v=output\n",
        "        out_v0=out_v[:,0][j]\n",
        "        out_v1=out_v[:,1][j]\n",
        "        score['0'].append(out_v0.cpu())\n",
        "        score['1'].append(out_v1.cpu())\n",
        "from sklearn import metrics\n",
        "fpr0, tpr0, thresholds0 = metrics.roc_curve(gt0, score['0'])\n",
        "roc_auc0 = metrics.auc(fpr0, tpr0)\n",
        "fig=plt.figure()\n",
        "plt.plot(fpr0, tpr0, color='darkorange')\n",
        "plt.plot([0, 1], [0, 1], color='navy', linestyle='--')\n",
        "plt.xlim([0.0, 1.05])\n",
        "plt.ylim([0.0, 1.05])\n",
        "plt.xlabel('False Positive Rate')\n",
        "plt.ylabel('True Positive Rate')\n",
        "plt.title('ROC curve for unusual(area = %0.2f)' % roc_auc0)\n",
        "# plt.legend(loc=\"lower right\")\n",
        "plt.show()\n",
        "fpr1, tpr1, thresholds1 = metrics.roc_curve(gt1, score['1'])\n",
        "roc_auc1 = metrics.auc(fpr1, tpr1)\n",
        "fig2=plt.figure()\n",
        "plt.plot(fpr1, tpr1, color='green')\n",
        "plt.plot([0, 1], [0, 1], color='navy', linestyle='--')\n",
        "plt.xlim([0.0, 1.05])\n",
        "plt.ylim([0.0, 1.05])\n",
        "plt.xlabel('False Positive Rate')\n",
        "plt.ylabel('True Positive Rate')\n",
        "plt.title('ROC curve for usual(area = %0.2f)' % roc_auc1)\n",
        "# plt.legend(loc=\"lower right\")\n",
        "plt.show()\n",
        "print('Test accuracy: ', float(num_correct)/float(n_confusion*eval_batch_size))\n",
        "\n",
        "# Normalize by dividing every row by its sum\n",
        "for i in range(n_classes):\n",
        "    confusion[i] = confusion[i] / confusion[i].sum()\n",
        "print(confusion)\n",
        "# Set up plot\n",
        "fig3 = plt.figure()\n",
        "ax = fig3.add_subplot(111)\n",
        "cax = ax.matshow(confusion.numpy())\n",
        "fig3.colorbar(cax)\n",
        "\n",
        "# Set up axes\n",
        "ax.set_xticklabels([''] + all_categories, rotation=90)\n",
        "ax.set_yticklabels([''] + all_categories)\n",
        "\n",
        "# Force label at every tick\n",
        "ax.xaxis.set_major_locator(ticker.MultipleLocator(1))\n",
        "ax.yaxis.set_major_locator(ticker.MultipleLocator(1))\n",
        "\n",
        "plt.show()"
      ],
      "execution_count": 0,
      "outputs": [
        {
          "output_type": "display_data",
          "data": {
            "image/png": "[encoded data removed]",
            "text/plain": [
              "<matplotlib.figure.Figure at 0x7ff8338fea20>"
            ]
          },
          "metadata": {
            "tags": []
          }
        },
        {
          "output_type": "display_data",
          "data": {
            "image/png": "[encoded data removed]",
            "text/plain": [
              "<matplotlib.figure.Figure at 0x7ff836720cc0>"
            ]
          },
          "metadata": {
            "tags": []
          }
        },
        {
          "output_type": "stream",
          "text": [
            "Test accuracy:  0.84\n",
            "tensor([[0.9515, 0.0485],\n",
            "        [0.2784, 0.7216]])\n"
          ],
          "name": "stdout"
        },
        {
          "output_type": "error",
          "ename": "NameError",
          "evalue": "ignored",
          "traceback": [
            "\u001b[0;31m---------------------------------------------------------------------------\u001b[0m",
            "\u001b[0;31mNameError\u001b[0m                                 Traceback (most recent call last)",
            "\u001b[0;32m<ipython-input-17-4cb501d19122>\u001b[0m in \u001b[0;36m<module>\u001b[0;34m()\u001b[0m\n\u001b[1;32m     73\u001b[0m \u001b[0;34m\u001b[0m\u001b[0m\n\u001b[1;32m     74\u001b[0m \u001b[0;31m# Force label at every tick\u001b[0m\u001b[0;34m\u001b[0m\u001b[0;34m\u001b[0m\u001b[0;34m\u001b[0m\u001b[0m\n\u001b[0;32m---> 75\u001b[0;31m \u001b[0max\u001b[0m\u001b[0;34m.\u001b[0m\u001b[0mxaxis\u001b[0m\u001b[0;34m.\u001b[0m\u001b[0mset_major_locator\u001b[0m\u001b[0;34m(\u001b[0m\u001b[0mticker\u001b[0m\u001b[0;34m.\u001b[0m\u001b[0mMultipleLocator\u001b[0m\u001b[0;34m(\u001b[0m\u001b[0;36m1\u001b[0m\u001b[0;34m)\u001b[0m\u001b[0;34m)\u001b[0m\u001b[0;34m\u001b[0m\u001b[0;34m\u001b[0m\u001b[0m\n\u001b[0m\u001b[1;32m     76\u001b[0m \u001b[0max\u001b[0m\u001b[0;34m.\u001b[0m\u001b[0myaxis\u001b[0m\u001b[0;34m.\u001b[0m\u001b[0mset_major_locator\u001b[0m\u001b[0;34m(\u001b[0m\u001b[0mticker\u001b[0m\u001b[0;34m.\u001b[0m\u001b[0mMultipleLocator\u001b[0m\u001b[0;34m(\u001b[0m\u001b[0;36m1\u001b[0m\u001b[0;34m)\u001b[0m\u001b[0;34m)\u001b[0m\u001b[0;34m\u001b[0m\u001b[0;34m\u001b[0m\u001b[0m\n\u001b[1;32m     77\u001b[0m \u001b[0;34m\u001b[0m\u001b[0m\n",
            "\u001b[0;31mNameError\u001b[0m: name 'ticker' is not defined"
          ]
        },
        {
          "output_type": "display_data",
          "data": {
            "image/png": "[encoded data removed]",
            "text/plain": [
              "<matplotlib.figure.Figure at 0x7ff83387f898>"
            ]
          },
          "metadata": {
            "tags": []
          }
        }
      ]
    },
    {
      "metadata": {
        "id": "8FWGRV6ST8D9",
        "colab_type": "code",
        "colab": {}
      },
      "cell_type": "code",
      "source": [
        "torch.save(rnn, '/content/drive/My Drive/IndependentStudy/textnet.pth')"
      ],
      "execution_count": 0,
      "outputs": []
    },
    {
      "metadata": {
        "id": "JRp1kf1TUjkq",
        "colab_type": "code",
        "colab": {}
      },
      "cell_type": "code",
      "source": [
        "rnn = torch.load('/content/drive/My Drive/IndependentStudy/textnet.pth')"
      ],
      "execution_count": 0,
      "outputs": []
    },
    {
      "metadata": {
        "id": "VYfRH3RvgmVW",
        "colab_type": "text"
      },
      "cell_type": "markdown",
      "source": [
        "Combined Prediction\n",
        "===================="
      ]
    },
    {
      "metadata": {
        "id": "RkE1pIujxrT2",
        "colab_type": "code",
        "outputId": "bfb0bea2-79d3-4ad8-bcad-93e75c0ea13b",
        "colab": {
          "base_uri": "https://localhost:8080/",
          "height": 231
        }
      },
      "cell_type": "code",
      "source": [
        "class ImageFolderX(datasets.ImageFolder):\n",
        "    \"\"\"Custom dataset that includes image file paths. Extends\n",
        "    torchvision.datasets.ImageFolder\n",
        "    \"\"\"\n",
        "\n",
        "    # override the __getitem__ method. this is the method dataloader calls\n",
        "    def __getitem__(self, index):\n",
        "        return super(ImageFolderX, self).__getitem__(index), self.imgs[index][0]#return image path\n",
        "\n",
        "# EXAMPLE USAGE:\n",
        "# instantiate the dataset and dataloader\n",
        "c_test_dataset =ImageFolderX(os.path.join(data_dir, 'val'),\n",
        "                                          data_transforms['val']) # our custom dataset\n",
        "c_eval_batch_size = 1  # needs to be set to 1 for evaluating different sequence lengths\n",
        "c_test_dataloader = torch.utils.data.DataLoader(c_test_dataset, batch_size=c_eval_batch_size,\n",
        "                                              num_workers=0)"
      ],
      "execution_count": 0,
      "outputs": [
        {
          "output_type": "error",
          "ename": "NameError",
          "evalue": "ignored",
          "traceback": [
            "\u001b[0;31m---------------------------------------------------------------------------\u001b[0m",
            "\u001b[0;31mNameError\u001b[0m                                 Traceback (most recent call last)",
            "\u001b[0;32m<ipython-input-2-e1e68de78580>\u001b[0m in \u001b[0;36m<module>\u001b[0;34m()\u001b[0m\n\u001b[0;32m----> 1\u001b[0;31m \u001b[0;32mclass\u001b[0m \u001b[0mImageFolderX\u001b[0m\u001b[0;34m(\u001b[0m\u001b[0mdatasets\u001b[0m\u001b[0;34m.\u001b[0m\u001b[0mImageFolder\u001b[0m\u001b[0;34m)\u001b[0m\u001b[0;34m:\u001b[0m\u001b[0;34m\u001b[0m\u001b[0;34m\u001b[0m\u001b[0m\n\u001b[0m\u001b[1;32m      2\u001b[0m     \"\"\"Custom dataset that includes image file paths. Extends\n\u001b[1;32m      3\u001b[0m     \u001b[0mtorchvision\u001b[0m\u001b[0;34m.\u001b[0m\u001b[0mdatasets\u001b[0m\u001b[0;34m.\u001b[0m\u001b[0mImageFolder\u001b[0m\u001b[0;34m\u001b[0m\u001b[0;34m\u001b[0m\u001b[0m\n\u001b[1;32m      4\u001b[0m     \"\"\"\n\u001b[1;32m      5\u001b[0m \u001b[0;34m\u001b[0m\u001b[0m\n",
            "\u001b[0;31mNameError\u001b[0m: name 'datasets' is not defined"
          ]
        }
      ]
    },
    {
      "metadata": {
        "id": "Y6bknBnZ5yxh",
        "colab_type": "code",
        "colab": {}
      },
      "cell_type": "code",
      "source": [
        "def sigmoid(a):\n",
        "    return 1/(1+torch.exp(-a))\n",
        "\n",
        "\n",
        "def load_certain_batch(text_dict,cap_index, label,all_categories,batch_size=1):\n",
        "    \n",
        "    target = torch.zeros(batch_size, 1).long().to(device)\n",
        "    input_text = []\n",
        "    for i in range(batch_size):\n",
        "        category = all_categories[label]\n",
        "        caption_index = cap_index[random.randint(0, len(cap_index)-1)]\n",
        "        category_tensor = torch.tensor([all_categories.index(category)], dtype=torch.long)\n",
        "        caption = text_dict[category][caption_index]\n",
        "        input_text.append(caption)\n",
        "        input_data = stringToTensor(caption).to(device)\n",
        "        target[i] = category_tensor\n",
        "    input_data=input_data.view(batch_size,-1)\n",
        "    return input_data, target, input_text"
      ],
      "execution_count": 0,
      "outputs": []
    },
    {
      "metadata": {
        "id": "TDDiaZRIXtqi",
        "colab_type": "code",
        "colab": {}
      },
      "cell_type": "code",
      "source": [
        "# Keep track of correct guesses in a confusion matrix\n",
        "c_confusion = torch.zeros(n_classes, n_classes)\n",
        "c_n_confusion = 400#1000\n",
        "c_num_correct = 0\n",
        "c_total = 0\n",
        "c_gt1=[]\n",
        "c_gt0=[]\n",
        "c_guess=[]\n",
        "c_label=[]\n",
        "c_score={'0':[],'1':[]}\n",
        "sig_all=torch.zeros(c_n_confusion,2)\n",
        "# for i in range(c_n_confusion):\n",
        "    \n",
        "model_conv_img.eval()\n",
        "rnn.eval()\n",
        "ii=0\n",
        "for (inputs, labels), address in c_test_dataloader:\n",
        "    \n",
        "#     print('iter',ii)\n",
        "    inputs = inputs.to(device)\n",
        "    labels = labels.to(device)\n",
        "    c_label.append(int(labelsmat[:100,2]))\n",
        "    # zero the parameter gradients\n",
        "\n",
        "    # forward\n",
        "    # track history if only in train\n",
        "#         with torch.set_grad_enabled(phase == 'train'):\n",
        "    with torch.no_grad():\n",
        "        outputs_i = model_conv_img(inputs)\n",
        "    sig_i= sigmoid(outputs_i)\n",
        "\n",
        "#         max_values, preds_i = torch.max(outputs_i, 1)\n",
        "#         loss = criterion(outputs, labels)\n",
        "    sig_t=None\n",
        "    for j, image_name in enumerate(address):\n",
        "        image_name=image_name[-16:]\n",
        "        cap_index=list(np.where(np.array(test_category_names[all_categories[int(labels[j])]])==image_name)[0])\n",
        "        label=labels[j]\n",
        "        input_data_t,target_t,input_text_t = load_certain_batch(test_category_data,cap_index,int(label),all_categories)\n",
        "        output_t = evaluate(rnn, input_data_t, seq_len=len(input_data_t), batch_size=c_eval_batch_size)\n",
        "        sig_t= sigmoid(output_t)\n",
        "        c_total+=1\n",
        "    sig_c=sig_i+sig_t\n",
        "    max_values, preds_c = torch.max(sig_c,1)\n",
        "    c_num_correct += int(int(preds_c)==int(labels))\n",
        "    c_confusion[int(labels)][int(preds_c)]+=1\n",
        "    sig_all[ii]=sig_c\n",
        "    c_guess.append(int(preds_c))\n",
        "    c_gt0.append(1-int(labels)) \n",
        "    c_gt1.append(int(labels))\n",
        "    out_v0=sig_c[:,0]\n",
        "    out_v1=sig_c[:,1]\n",
        "    c_score['0'].append(out_v0.cpu())\n",
        "    c_score['1'].append(out_v1.cpu())\n",
        "    ii+=1\n",
        "\n",
        "#     epoch_loss = running_loss / dataset_sizes[phase]\n",
        "#     epoch_acc = running_corrects.double() / dataset_sizes[phase]\n",
        "\n",
        "#     print('{} Loss: {:.4f} Acc: {:.4f}'.format(phase, epoch_loss, epoch_acc))\n"
      ],
      "execution_count": 0,
      "outputs": []
    },
    {
      "metadata": {
        "id": "EVv1tj4Das-q",
        "colab_type": "code",
        "outputId": "a5e0ca3e-e62f-4cf1-f315-eb802eeeb700",
        "colab": {
          "base_uri": "https://localhost:8080/",
          "height": 895
        }
      },
      "cell_type": "code",
      "source": [
        "from sklearn import metrics\n",
        "c_fpr0, c_tpr0, c_thresholds0 = metrics.roc_curve(c_gt0, c_score['0'])\n",
        "c_roc_auc0 = metrics.auc(c_fpr0, c_tpr0)\n",
        "fig=plt.figure()\n",
        "plt.plot(c_fpr0, c_tpr0, color='darkorange')\n",
        "plt.plot([0, 1], [0, 1], color='navy', linestyle='--')\n",
        "plt.xlim([0.0, 1.05])\n",
        "plt.ylim([0.0, 1.05])\n",
        "plt.xlabel('False Positive Rate')\n",
        "plt.ylabel('True Positive Rate')\n",
        "plt.title('ROC curve for unusual(area = %0.2f)' % roc_auc0)\n",
        "# plt.legend(loc=\"lower right\")\n",
        "plt.show()\n",
        "c_fpr1, c_tpr1, c_thresholds1 = metrics.roc_curve(c_gt1, c_score['1'])\n",
        "c_roc_auc1 = metrics.auc(c_fpr1, c_tpr1)\n",
        "fig2=plt.figure()\n",
        "plt.plot(c_fpr1, c_tpr1, color='green')\n",
        "plt.plot([0, 1], [0, 1], color='navy', linestyle='--')\n",
        "plt.xlim([0.0, 1.05])\n",
        "plt.ylim([0.0, 1.05])\n",
        "plt.xlabel('False Positive Rate')\n",
        "plt.ylabel('True Positive Rate')\n",
        "plt.title('ROC curve for usual(area = %0.2f)' % roc_auc1)\n",
        "# plt.legend(loc=\"lower right\")\n",
        "plt.show()\n",
        "print('Test accuracy: ', float(num_correct)/float(n_confusion*eval_batch_size))\n",
        "\n",
        "# Normalize by dividing every row by its sum\n",
        "for i in range(n_classes):\n",
        "    c_confusion[i] = c_confusion[i] / c_confusion[i].sum()\n",
        "print(c_confusion)\n",
        "# Set up plot\n",
        "fig3 = plt.figure()\n",
        "ax = fig3.add_subplot(111)\n",
        "cax = ax.matshow(c_confusion.numpy())\n",
        "fig3.colorbar(cax)\n",
        "\n",
        "# Set up axes\n",
        "ax.set_xticklabels([''] + all_categories, rotation=90)\n",
        "ax.set_yticklabels([''] + all_categories)\n",
        "\n",
        "# Force label at every tick\n",
        "ax.xaxis.set_major_locator(ticker.MultipleLocator(1))\n",
        "ax.yaxis.set_major_locator(ticker.MultipleLocator(1))\n",
        "\n",
        "plt.show() "
      ],
      "execution_count": 0,
      "outputs": [
        {
          "output_type": "display_data",
          "data": {
            "image/png": "[encoded data removed]",
            "text/plain": [
              "<matplotlib.figure.Figure at 0x7fc5083159e8>"
            ]
          },
          "metadata": {
            "tags": []
          }
        },
        {
          "output_type": "display_data",
          "data": {
            "image/png": "[encoded data removed]",
            "text/plain": [
              "<matplotlib.figure.Figure at 0x7fc507baaa58>"
            ]
          },
          "metadata": {
            "tags": []
          }
        },
        {
          "output_type": "stream",
          "text": [
            "Test accuracy:  0.7\n",
            "tensor([[0.5800, 0.4200],\n",
            "        [0.1533, 0.8467]])\n"
          ],
          "name": "stdout"
        },
        {
          "output_type": "display_data",
          "data": {
            "image/png": "[encoded data removed]",
            "text/plain": [
              "<matplotlib.figure.Figure at 0x7fc50cf54f98>"
            ]
          },
          "metadata": {
            "tags": []
          }
        }
      ]
    },
    {
      "metadata": {
        "id": "lNhcYzaiZzT7",
        "colab_type": "code",
        "outputId": "ad6f8da1-3553-452f-cb48-fec8a03ddde8",
        "colab": {
          "base_uri": "https://localhost:8080/",
          "height": 34
        }
      },
      "cell_type": "code",
      "source": [
        "# a=sig_all[1:10]\n",
        "# c=np.resize(np.array(c_guess[1:10]),(len(c_guess[1:10]),1))\n",
        "# a=a.numpy()\n",
        "# print(a,c)\n",
        "# print(a.shape,c.shape)\n",
        "# cat_test=np.concatenate((a,c),axis=1)\n",
        "# print(cat_test)\n",
        "# mat = cat_test[cat_test[:,0].argsort()[::-1]]\n",
        "# print(mat)\n",
        "\n",
        "sig_all_np=sig_all.numpy()\n",
        "c_label_np=np.resize(np.array(c_label),(len(c_label),1))\n",
        "cat_all=np.concatenate((sig_all_np,c_label_np),axis=1)\n",
        "mat=cat_all[cat_all[:,0].argsort()[::-1]]\n",
        "sum(mat[:100,2])"
      ],
      "execution_count": 0,
      "outputs": [
        {
          "output_type": "execute_result",
          "data": {
            "text/plain": [
              "42.0"
            ]
          },
          "metadata": {
            "tags": []
          },
          "execution_count": 148
        }
      ]
    }
  ]
}